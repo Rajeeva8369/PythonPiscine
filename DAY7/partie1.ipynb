{
 "cells": [
  {
   "metadata": {},
   "cell_type": "markdown",
   "source": "notebook de Rajeeva",
   "id": "357acce2869d8125"
  },
  {
   "metadata": {
    "ExecuteTime": {
     "end_time": "2025-09-11T08:26:12.421302Z",
     "start_time": "2025-09-11T08:26:12.413694Z"
    }
   },
   "cell_type": "code",
   "source": "\"Hello World!\"",
   "id": "1ea5b4d03b220ad3",
   "outputs": [
    {
     "data": {
      "text/plain": [
       "'Hello World!'"
      ]
     },
     "execution_count": 7,
     "metadata": {},
     "output_type": "execute_result"
    }
   ],
   "execution_count": 7
  },
  {
   "metadata": {
    "ExecuteTime": {
     "end_time": "2025-09-11T08:55:22.553388Z",
     "start_time": "2025-09-11T08:55:22.546764Z"
    }
   },
   "cell_type": "code",
   "source": [
    "my_list = [5, 10, 15, 20, 25, 30]\n",
    "my_list"
   ],
   "id": "85d7df4b6f57d0d3",
   "outputs": [
    {
     "data": {
      "text/plain": [
       "[5, 10, 15, 20, 25, 30]"
      ]
     },
     "execution_count": 25,
     "metadata": {},
     "output_type": "execute_result"
    }
   ],
   "execution_count": 25
  },
  {
   "metadata": {},
   "cell_type": "markdown",
   "source": [
    "- La somme des valeurs\n",
    "- La moyenne (arrondie à 2 décimales)\n",
    "- La valeur maximale\n",
    "- La valeur minimale\n"
   ],
   "id": "750543d4fd0291dc"
  },
  {
   "metadata": {
    "ExecuteTime": {
     "end_time": "2025-09-11T08:28:29.853434Z",
     "start_time": "2025-09-11T08:28:29.845132Z"
    }
   },
   "cell_type": "code",
   "source": [
    "resultats = (\n",
    "    sum(my_list),\n",
    "    round(sum(my_list)/len(my_list), 2),\n",
    "    max(my_list),\n",
    "    min(my_list)\n",
    ")\n",
    "resultats"
   ],
   "id": "1567b495bd626dce",
   "outputs": [
    {
     "data": {
      "text/plain": [
       "(105, 17.5, 30, 5)"
      ]
     },
     "execution_count": 9,
     "metadata": {},
     "output_type": "execute_result"
    }
   ],
   "execution_count": 9
  },
  {
   "metadata": {
    "ExecuteTime": {
     "end_time": "2025-09-11T08:44:50.821553Z",
     "start_time": "2025-09-11T08:44:50.771917Z"
    }
   },
   "cell_type": "code",
   "source": "%time flights = pd.read_parquet(\"flights.parquet\")",
   "id": "a2b1e46ef1b71a67",
   "outputs": [
    {
     "name": "stdout",
     "output_type": "stream",
     "text": [
      "CPU times: user 33.4 ms, sys: 46 ms, total: 79.3 ms\n",
      "Wall time: 42.1 ms\n"
     ]
    }
   ],
   "execution_count": 11
  },
  {
   "metadata": {
    "ExecuteTime": {
     "end_time": "2025-09-11T08:46:00.955860Z",
     "start_time": "2025-09-11T08:45:08.570187Z"
    }
   },
   "cell_type": "code",
   "source": [
    "%%timeit -n 25 -r 20\n",
    "df = flights.copy()\n",
    "df = df[df[\"AIR_TIME\"] > 0]\n",
    "df[\"AIR_TIME_LOG\"] = np.log(df[\"AIR_TIME\"])\n",
    "df.describe()"
   ],
   "id": "de201013cba497c3",
   "outputs": [
    {
     "name": "stdout",
     "output_type": "stream",
     "text": [
      "105 ms ± 5.84 ms per loop (mean ± std. dev. of 20 runs, 25 loops each)\n"
     ]
    }
   ],
   "execution_count": 12
  },
  {
   "metadata": {
    "ExecuteTime": {
     "end_time": "2025-09-11T08:47:52.077865Z",
     "start_time": "2025-09-11T08:47:52.059888Z"
    }
   },
   "cell_type": "code",
   "source": "%lsmagic",
   "id": "96881a20ea2eacb7",
   "outputs": [
    {
     "data": {
      "text/plain": [
       "Available line magics:\n",
       "%alias  %alias_magic  %autoawait  %autocall  %automagic  %autosave  %bookmark  %cat  %cd  %clear  %code_wrap  %colors  %conda  %config  %connect_info  %cp  %debug  %dhist  %dirs  %doctest_mode  %ed  %edit  %env  %gui  %hist  %history  %killbgscripts  %ldir  %less  %lf  %lk  %ll  %load  %load_ext  %loadpy  %logoff  %logon  %logstart  %logstate  %logstop  %ls  %lsmagic  %lx  %macro  %magic  %mamba  %man  %matplotlib  %micromamba  %mkdir  %more  %mv  %notebook  %page  %pastebin  %pdb  %pdef  %pdoc  %pfile  %pinfo  %pinfo2  %pip  %popd  %pprint  %precision  %prun  %psearch  %psource  %pushd  %pwd  %pycat  %pylab  %qtconsole  %quickref  %recall  %rehashx  %reload_ext  %rep  %rerun  %reset  %reset_selective  %rm  %rmdir  %run  %save  %sc  %set_env  %store  %sx  %system  %tb  %time  %timeit  %unalias  %unload_ext  %uv  %who  %who_ls  %whos  %xdel  %xmode\n",
       "\n",
       "Available cell magics:\n",
       "%%!  %%HTML  %%SVG  %%bash  %%capture  %%code_wrap  %%debug  %%file  %%html  %%javascript  %%js  %%latex  %%markdown  %%perl  %%prun  %%pypy  %%python  %%python2  %%python3  %%ruby  %%script  %%sh  %%svg  %%sx  %%system  %%time  %%timeit  %%writefile\n",
       "\n",
       "Automagic is ON, % prefix IS NOT needed for line magics."
      ],
      "application/json": {
       "line": {
        "automagic": "AutoMagics",
        "autocall": "AutoMagics",
        "alias_magic": "BasicMagics",
        "lsmagic": "BasicMagics",
        "magic": "BasicMagics",
        "page": "BasicMagics",
        "pprint": "BasicMagics",
        "colors": "BasicMagics",
        "xmode": "BasicMagics",
        "quickref": "BasicMagics",
        "doctest_mode": "BasicMagics",
        "gui": "BasicMagics",
        "precision": "BasicMagics",
        "notebook": "BasicMagics",
        "save": "CodeMagics",
        "pastebin": "CodeMagics",
        "loadpy": "CodeMagics",
        "load": "CodeMagics",
        "edit": "KernelMagics",
        "config": "ConfigMagics",
        "prun": "ExecutionMagics",
        "pdb": "ExecutionMagics",
        "debug": "ExecutionMagics",
        "tb": "ExecutionMagics",
        "run": "ExecutionMagics",
        "timeit": "ExecutionMagics",
        "time": "ExecutionMagics",
        "macro": "ExecutionMagics",
        "code_wrap": "ExecutionMagics",
        "load_ext": "ExtensionMagics",
        "unload_ext": "ExtensionMagics",
        "reload_ext": "ExtensionMagics",
        "history": "HistoryMagics",
        "recall": "HistoryMagics",
        "rerun": "HistoryMagics",
        "logstart": "LoggingMagics",
        "logstop": "LoggingMagics",
        "logoff": "LoggingMagics",
        "logon": "LoggingMagics",
        "logstate": "LoggingMagics",
        "pinfo": "NamespaceMagics",
        "pinfo2": "NamespaceMagics",
        "pdef": "NamespaceMagics",
        "pdoc": "NamespaceMagics",
        "psource": "NamespaceMagics",
        "pfile": "NamespaceMagics",
        "psearch": "NamespaceMagics",
        "who_ls": "NamespaceMagics",
        "who": "NamespaceMagics",
        "whos": "NamespaceMagics",
        "reset": "NamespaceMagics",
        "reset_selective": "NamespaceMagics",
        "xdel": "NamespaceMagics",
        "alias": "OSMagics",
        "unalias": "OSMagics",
        "rehashx": "OSMagics",
        "pwd": "OSMagics",
        "cd": "OSMagics",
        "env": "OSMagics",
        "set_env": "OSMagics",
        "pushd": "OSMagics",
        "popd": "OSMagics",
        "dirs": "OSMagics",
        "dhist": "OSMagics",
        "sc": "OSMagics",
        "sx": "OSMagics",
        "system": "OSMagics",
        "bookmark": "OSMagics",
        "pycat": "OSMagics",
        "pip": "PackagingMagics",
        "conda": "PackagingMagics",
        "mamba": "PackagingMagics",
        "micromamba": "PackagingMagics",
        "uv": "PackagingMagics",
        "matplotlib": "PylabMagics",
        "pylab": "PylabMagics",
        "killbgscripts": "ScriptMagics",
        "autoawait": "AsyncMagics",
        "ed": "Other",
        "hist": "Other",
        "rep": "Other",
        "clear": "KernelMagics",
        "less": "KernelMagics",
        "more": "KernelMagics",
        "man": "KernelMagics",
        "connect_info": "KernelMagics",
        "qtconsole": "KernelMagics",
        "autosave": "KernelMagics",
        "mkdir": "Other",
        "rmdir": "Other",
        "mv": "Other",
        "rm": "Other",
        "cp": "Other",
        "cat": "Other",
        "ls": "Other",
        "ll": "Other",
        "lf": "Other",
        "lk": "Other",
        "ldir": "Other",
        "lx": "Other",
        "store": "StoreMagics"
       },
       "cell": {
        "js": "DisplayMagics",
        "javascript": "DisplayMagics",
        "latex": "DisplayMagics",
        "svg": "DisplayMagics",
        "html": "DisplayMagics",
        "markdown": "DisplayMagics",
        "prun": "ExecutionMagics",
        "debug": "ExecutionMagics",
        "timeit": "ExecutionMagics",
        "time": "ExecutionMagics",
        "capture": "ExecutionMagics",
        "code_wrap": "ExecutionMagics",
        "sx": "OSMagics",
        "system": "OSMagics",
        "!": "OSMagics",
        "writefile": "OSMagics",
        "script": "ScriptMagics",
        "sh": "Other",
        "bash": "Other",
        "perl": "Other",
        "ruby": "Other",
        "python": "Other",
        "python2": "Other",
        "python3": "Other",
        "pypy": "Other",
        "SVG": "Other",
        "HTML": "Other",
        "file": "Other"
       }
      }
     },
     "execution_count": 13,
     "metadata": {},
     "output_type": "execute_result"
    }
   ],
   "execution_count": 13
  },
  {
   "metadata": {
    "ExecuteTime": {
     "end_time": "2025-09-11T08:50:10.666530Z",
     "start_time": "2025-09-11T08:50:10.661176Z"
    }
   },
   "cell_type": "code",
   "source": "%history -n 1-10",
   "id": "f778b97e46b3b10f",
   "outputs": [
    {
     "name": "stdout",
     "output_type": "stream",
     "text": [
      "   1:\n",
      "# Import des librairies\n",
      "import pandas as pd\n",
      "import seaborn as sns\n",
      "import matplotlib.pyplot as plt\n",
      "import numpy as np\n",
      "\n",
      "flights = pd.read_parquet(\"flights.parquet\")\n",
      "flights.head()\n",
      "\n",
      "plt.figure(figsize=(8, 5))\n",
      "sns.histplot(flights[\"AIR_TIME\"], bins=50, kde=False)\n",
      "plt.title(\"Répartition du temps de vol (brut)\")\n",
      "plt.xlabel(\"Temps en vol (minutes)\")\n",
      "plt.ylabel(\"Nombre de vols\")\n",
      "plt.show()\n",
      "\n",
      "df_airtime = flights.copy()\n",
      "print(\"Variance initiale :\", df_airtime[\"AIR_TIME\"].var())\n",
      "\n",
      "\n",
      "df_airtime = df_airtime[df_airtime[\"AIR_TIME\"] > 0]\n",
      "\n",
      "df_airtime[\"AIR_TIME_LOG\"] = np.log(df_airtime[\"AIR_TIME\"])\n",
      "print(\"Variance après log :\", df_airtime[\"AIR_TIME_LOG\"].var())\n",
      "\n",
      "plt.figure(figsize=(8, 5))\n",
      "sns.histplot(df_airtime[\"AIR_TIME_LOG\"], bins=50, kde=False)\n",
      "plt.title(\"Répartition du temps de vol (après log)\")\n",
      "plt.xlabel(\"log(AIR_TIME)\")\n",
      "plt.ylabel(\"Nombre de vols\")\n",
      "plt.show()\n",
      "\n",
      "bins = range(0, int(flights[\"AIR_TIME\"].max()) + 30, 30)\n",
      "df_airtime[\"AIR_TIME_BIN\"] = pd.cut(flights[\"AIR_TIME\"], bins=bins)\n",
      "\n",
      "plt.figure(figsize=(12, 6))\n",
      "sns.histplot(df_airtime, x=\"AIR_TIME_BIN\")\n",
      "plt.xticks(rotation=45)\n",
      "plt.title(\"Temps de vol regroupé par tranches de 30 minutes\")\n",
      "plt.xlabel(\"Tranches (minutes)\")\n",
      "plt.ylabel(\"Nombre de vols\")\n",
      "plt.show()\n",
      "   2:\n",
      "# Import des librairies\n",
      "import pandas as pd\n",
      "import seaborn as sns\n",
      "import matplotlib.pyplot as plt\n",
      "import numpy as np\n",
      "\n",
      "flights = pd.read_parquet(\"flights.parquet\")\n",
      "flights.head()\n",
      "\n",
      "plt.figure(figsize=(8, 5))\n",
      "sns.histplot(flights[\"AIR_TIME\"], bins=50, kde=False)\n",
      "plt.title(\"Répartition du temps de vol (brut)\")\n",
      "plt.xlabel(\"Temps en vol (minutes)\")\n",
      "plt.ylabel(\"Nombre de vols\")\n",
      "plt.show()\n",
      "\n",
      "df_airtime = flights.copy()\n",
      "print(\"Variance initiale :\", df_airtime[\"AIR_TIME\"].var())\n",
      "\n",
      "\n",
      "df_airtime = df_airtime[df_airtime[\"AIR_TIME\"] > 0]\n",
      "\n",
      "df_airtime[\"AIR_TIME_LOG\"] = np.log(df_airtime[\"AIR_TIME\"])\n",
      "print(\"Variance après log :\", df_airtime[\"AIR_TIME_LOG\"].var())\n",
      "\n",
      "plt.figure(figsize=(8, 5))\n",
      "sns.histplot(df_airtime[\"AIR_TIME_LOG\"], bins=50, kde=False)\n",
      "plt.title(\"Répartition du temps de vol (après log)\")\n",
      "plt.xlabel(\"log(AIR_TIME)\")\n",
      "plt.ylabel(\"Nombre de vols\")\n",
      "plt.show()\n",
      "\n",
      "bins = range(0, int(flights[\"AIR_TIME\"].max()) + 30, 30)\n",
      "df_airtime[\"AIR_TIME_BIN\"] = pd.cut(flights[\"AIR_TIME\"], bins=bins)\n",
      "\n",
      "plt.figure(figsize=(12, 6))\n",
      "sns.histplot(df_airtime, x=\"AIR_TIME_BIN\")\n",
      "plt.xticks(rotation=45)\n",
      "plt.title(\"Temps de vol regroupé par tranches de 30 minutes\")\n",
      "plt.xlabel(\"Tranches (minutes)\")\n",
      "plt.ylabel(\"Nombre de vols\")\n",
      "plt.show()\n",
      "   3:\n",
      "# Import des librairies\n",
      "import pandas as pd\n",
      "import seaborn as sns\n",
      "import matplotlib.pyplot as plt\n",
      "import numpy as np\n",
      "\n",
      "flights = pd.read_parquet(\"flights.parquet\")\n",
      "flights.head()\n",
      "\n",
      "plt.figure(figsize=(8, 5))\n",
      "sns.histplot(flights[\"AIR_TIME\"], bins=50, kde=False)\n",
      "plt.title(\"Répartition du temps de vol (brut)\")\n",
      "plt.xlabel(\"Temps en vol (minutes)\")\n",
      "plt.ylabel(\"Nombre de vols\")\n",
      "plt.show()\n",
      "\n",
      "df_airtime = flights.copy()\n",
      "print(\"Variance initiale :\", df_airtime[\"AIR_TIME\"].var())\n",
      "\n",
      "\n",
      "df_airtime = df_airtime[df_airtime[\"AIR_TIME\"] > 0]\n",
      "\n",
      "df_airtime[\"AIR_TIME_LOG\"] = np.log(df_airtime[\"AIR_TIME\"])\n",
      "print(\"Variance après log :\", df_airtime[\"AIR_TIME_LOG\"].var())\n",
      "\n",
      "plt.figure(figsize=(8, 5))\n",
      "sns.histplot(df_airtime[\"AIR_TIME_LOG\"], bins=50, kde=False)\n",
      "plt.title(\"Répartition du temps de vol (après log)\")\n",
      "plt.xlabel(\"log(AIR_TIME)\")\n",
      "plt.ylabel(\"Nombre de vols\")\n",
      "plt.show()\n",
      "\n",
      "bins = range(0, int(flights[\"AIR_TIME\"].max()) + 30, 30)\n",
      "df_airtime[\"AIR_TIME_BIN\"] = pd.cut(flights[\"AIR_TIME\"], bins=bins)\n",
      "\n",
      "plt.figure(figsize=(12, 6))\n",
      "sns.histplot(df_airtime, x=\"AIR_TIME_BIN\")\n",
      "plt.xticks(rotation=45)\n",
      "plt.title(\"Temps de vol regroupé par tranches de 30 minutes\")\n",
      "plt.xlabel(\"Tranches (minutes)\")\n",
      "plt.ylabel(\"Nombre de vols\")\n",
      "plt.show()\n",
      "   4:\n",
      "# Import des librairies\n",
      "import pandas as pd\n",
      "import seaborn as sns\n",
      "import matplotlib.pyplot as plt\n",
      "import numpy as np\n",
      "\n",
      "flights = pd.read_parquet(\"flights.parquet\")\n",
      "flights.head()\n",
      "\n",
      "plt.figure(figsize=(8, 5))\n",
      "sns.histplot(flights[\"AIR_TIME\"], bins=50, kde=False)\n",
      "plt.title(\"Répartition du temps de vol (brut)\")\n",
      "plt.xlabel(\"Temps en vol (minutes)\")\n",
      "plt.ylabel(\"Nombre de vols\")\n",
      "plt.show()\n",
      "\n",
      "df_airtime = flights.copy()\n",
      "print(\"Variance initiale :\", df_airtime[\"AIR_TIME\"].var())\n",
      "\n",
      "\n",
      "df_airtime = df_airtime[df_airtime[\"AIR_TIME\"] > 0]\n",
      "\n",
      "df_airtime[\"AIR_TIME_LOG\"] = np.log(df_airtime[\"AIR_TIME\"])\n",
      "print(\"Variance après log :\", df_airtime[\"AIR_TIME_LOG\"].var())\n",
      "\n",
      "plt.figure(figsize=(8, 5))\n",
      "sns.histplot(df_airtime[\"AIR_TIME_LOG\"], bins=50, kde=False)\n",
      "plt.title(\"Répartition du temps de vol (après log)\")\n",
      "plt.xlabel(\"log(AIR_TIME)\")\n",
      "plt.ylabel(\"Nombre de vols\")\n",
      "plt.show()\n",
      "\n",
      "bins = range(0, int(flights[\"AIR_TIME\"].max()) + 30, 30)\n",
      "df_airtime[\"AIR_TIME_BIN\"] = pd.cut(flights[\"AIR_TIME\"], bins=bins)\n",
      "\n",
      "plt.figure(figsize=(12, 6))\n",
      "sns.histplot(df_airtime, x=\"AIR_TIME_BIN\")\n",
      "plt.xticks(rotation=45)\n",
      "plt.title(\"Temps de vol regroupé par tranches de 30 minutes\")\n",
      "plt.xlabel(\"Tranches (minutes)\")\n",
      "plt.ylabel(\"Nombre de vols\")\n",
      "plt.show()\n",
      "   5: Ce notebook contient les exo de Rajeeva.\n",
      "   6: \"Hello World!\"\n",
      "   7: \"Hello World!\"\n",
      "   8:\n",
      "my_list = [5, 10, 15, 20, 25, 30]\n",
      "my_list\n",
      "   9:\n",
      "resultats = (\n",
      "    sum(my_list), \n",
      "    round(sum(my_list)/len(my_list), 2), \n",
      "    max(my_list), \n",
      "    min(my_list)\n",
      ")\n",
      "resultats\n",
      "  10: %time flights = pd.read_parquet(\"flights.parquet\")\n"
     ]
    }
   ],
   "execution_count": 15
  },
  {
   "metadata": {
    "ExecuteTime": {
     "end_time": "2025-09-12T08:05:05.165324Z",
     "start_time": "2025-09-12T08:05:05.135987Z"
    }
   },
   "cell_type": "code",
   "source": "%who",
   "id": "bbe4ed5aaa7f27a",
   "outputs": [
    {
     "name": "stdout",
     "output_type": "stream",
     "text": [
      "bins\t df_airtime\t flights\t my_list\t np\t pd\t plt\t resultats\t sns\t \n",
      "\n"
     ]
    }
   ],
   "execution_count": 27
  },
  {
   "metadata": {
    "ExecuteTime": {
     "end_time": "2025-09-12T08:08:47.640555Z",
     "start_time": "2025-09-12T08:08:47.532600Z"
    }
   },
   "cell_type": "code",
   "source": [
    "\n",
    "%time flights = pd.read_parquet(\"flights.parquet\")\n",
    "\n",
    "\n",
    "import ipywidgets as widgets\n",
    "from IPython.display import display\n",
    "\n",
    "slider = widgets.IntSlider(value=10, min=0, max=100, step=5, description=\"Valeur :\")\n",
    "display(slider)\n",
    "slider.value\n"
   ],
   "id": "96046849fde66562",
   "outputs": [
    {
     "name": "stdout",
     "output_type": "stream",
     "text": [
      "CPU times: user 30.4 ms, sys: 46.5 ms, total: 76.9 ms\n",
      "Wall time: 88.6 ms\n"
     ]
    },
    {
     "data": {
      "text/plain": [
       "IntSlider(value=10, description='Valeur :', step=5)"
      ],
      "application/vnd.jupyter.widget-view+json": {
       "version_major": 2,
       "version_minor": 0,
       "model_id": "18223e2e4add4ef699888e3d6c3ca7e3"
      }
     },
     "metadata": {},
     "output_type": "display_data",
     "jetTransient": {
      "display_id": null
     }
    },
    {
     "data": {
      "text/plain": [
       "10"
      ]
     },
     "execution_count": 31,
     "metadata": {},
     "output_type": "execute_result"
    }
   ],
   "execution_count": 31
  }
 ],
 "metadata": {
  "kernelspec": {
   "display_name": "Python 3",
   "language": "python",
   "name": "python3"
  },
  "language_info": {
   "codemirror_mode": {
    "name": "ipython",
    "version": 2
   },
   "file_extension": ".py",
   "mimetype": "text/x-python",
   "name": "python",
   "nbconvert_exporter": "python",
   "pygments_lexer": "ipython2",
   "version": "2.7.6"
  }
 },
 "nbformat": 4,
 "nbformat_minor": 5
}
